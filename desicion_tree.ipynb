{
 "cells": [
  {
   "cell_type": "code",
   "execution_count": 22,
   "metadata": {},
   "outputs": [
    {
     "name": "stdout",
     "output_type": "stream",
     "text": [
      "Accuracy: 0.92\n",
      "Confusion Matrix:\n",
      " [[701  38]\n",
      " [ 46 250]]\n",
      "Classification Report:\n",
      "               precision    recall  f1-score   support\n",
      "\n",
      "           0       0.94      0.95      0.94       739\n",
      "           1       0.87      0.84      0.86       296\n",
      "\n",
      "    accuracy                           0.92      1035\n",
      "   macro avg       0.90      0.90      0.90      1035\n",
      "weighted avg       0.92      0.92      0.92      1035\n",
      "\n",
      "[[0. 1.]]\n"
     ]
    }
   ],
   "source": [
    "import pandas as pd\n",
    "from sklearn.model_selection import train_test_split\n",
    "from sklearn.tree import DecisionTreeClassifier\n",
    "from sklearn.metrics import accuracy_score, classification_report, confusion_matrix\n",
    "import pickle\n",
    "import numpy as np\n",
    "\n",
    "# Load your dataset\n",
    "df = pd.read_csv('cleaned_dataset.csv')\n",
    "\n",
    "# Assuming the last column is the target\n",
    "X = df.iloc[:, :-1]  # All columns except the last one\n",
    "y = df.iloc[:, -1]   # The last column\n",
    "\n",
    "# Split the data into training and testing sets\n",
    "X_train, X_test, y_train, y_test = train_test_split(X, y, test_size=0.2, random_state=42)\n",
    "\n",
    "# Initialize and train the Decision Tree Classifier\n",
    "clf = DecisionTreeClassifier(random_state=42)\n",
    "clf.fit(X_train, y_train)\n",
    "\n",
    "# Save the model to disk\n",
    "pickle.dump(clf, open('models/decision_tree.pkl', 'wb'))\n",
    "\n",
    "y_pred = clf.predict(X_test)\n",
    "accuracy = accuracy_score(y_test, y_pred)\n",
    "conf_matrix = confusion_matrix(y_test, y_pred)\n",
    "class_report = classification_report(y_test, y_pred)\n",
    "\n",
    "# Evaluate the performance of the classifier\n",
    "accuracy = accuracy_score(y_test, y_pred)\n",
    "conf_matrix = confusion_matrix(y_test, y_pred)\n",
    "class_report = classification_report(y_test, y_pred)\n",
    "\n",
    "# Print the results\n",
    "print(f\"Accuracy: {accuracy:.2f}\")\n",
    "print(\"Confusion Matrix:\\n\", conf_matrix)\n",
    "print(\"Classification Report:\\n\", class_report)\n",
    "\n",
    "def predict_string(input_string):\n",
    "    # Load the trained model\n",
    "    loaded_model = pickle.load(open('models/decision_tree.pkl', 'rb'))\n",
    "\n",
    "    # Tokenize the input string and count the occurrence of each word\n",
    "    word_list = input_string.lower().split()\n",
    "    word_count = {word: word_list.count(word) for word in word_list}\n",
    "\n",
    "    # Create a DataFrame with the same structure as the training data\n",
    "    input_df = pd.DataFrame(columns=X.columns)\n",
    "    input_df.loc[0] = 0  # Initialize with zeros\n",
    "\n",
    "    # Fill in the word counts\n",
    "    for word in word_count:\n",
    "        if word in input_df.columns:\n",
    "            input_df.at[0, word] = word_count[word]\n",
    "\n",
    "    # Make a prediction using predict_proba for probability estimates\n",
    "    probabilities = loaded_model.predict_proba(input_df)\n",
    "    return probabilities\n",
    "\n",
    "res = predict_string(\"alphabettically\")\n",
    "print(res)"
   ]
  }
 ],
 "metadata": {
  "kernelspec": {
   "display_name": "base",
   "language": "python",
   "name": "python3"
  },
  "language_info": {
   "codemirror_mode": {
    "name": "ipython",
    "version": 3
   },
   "file_extension": ".py",
   "mimetype": "text/x-python",
   "name": "python",
   "nbconvert_exporter": "python",
   "pygments_lexer": "ipython3",
   "version": "3.11.5"
  }
 },
 "nbformat": 4,
 "nbformat_minor": 2
}

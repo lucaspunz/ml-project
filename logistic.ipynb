{
 "cells": [
  {
   "cell_type": "code",
   "execution_count": 1,
   "metadata": {},
   "outputs": [
    {
     "name": "stdout",
     "output_type": "stream",
     "text": [
      "Accuracy: 0.97\n",
      "Confusion Matrix:\n",
      " [[719  20]\n",
      " [ 11 285]]\n",
      "Classification Report:\n",
      "               precision    recall  f1-score   support\n",
      "\n",
      "           0       0.98      0.97      0.98       739\n",
      "           1       0.93      0.96      0.95       296\n",
      "\n",
      "    accuracy                           0.97      1035\n",
      "   macro avg       0.96      0.97      0.96      1035\n",
      "weighted avg       0.97      0.97      0.97      1035\n",
      "\n"
     ]
    },
    {
     "name": "stderr",
     "output_type": "stream",
     "text": [
      "/Users/ziqiangzhu/anaconda3/lib/python3.11/site-packages/sklearn/linear_model/_logistic.py:460: ConvergenceWarning: lbfgs failed to converge (status=1):\n",
      "STOP: TOTAL NO. of ITERATIONS REACHED LIMIT.\n",
      "\n",
      "Increase the number of iterations (max_iter) or scale the data as shown in:\n",
      "    https://scikit-learn.org/stable/modules/preprocessing.html\n",
      "Please also refer to the documentation for alternative solver options:\n",
      "    https://scikit-learn.org/stable/modules/linear_model.html#logistic-regression\n",
      "  n_iter_i = _check_optimize_result(\n"
     ]
    }
   ],
   "source": [
    "import pandas as pd\n",
    "from sklearn.model_selection import train_test_split\n",
    "from sklearn.linear_model import LogisticRegression\n",
    "from sklearn.metrics import accuracy_score, classification_report, confusion_matrix\n",
    "from sklearn.preprocessing import StandardScaler\n",
    "\n",
    "# Load your cleaned dataset (replace 'cleaned_dataset.csv' with the actual file name)\n",
    "df_cleaned = pd.read_csv('cleaned_dataset.csv')\n",
    "\n",
    "# Assuming 'target' is the column you want to predict\n",
    "target_column = 'Prediction'\n",
    "\n",
    "# Split the dataset into features (X) and target variable (y)\n",
    "X = df_cleaned.drop(columns=[target_column])\n",
    "y = df_cleaned[target_column]\n",
    "\n",
    "# Split the data into training and testing sets\n",
    "X_train, X_test, y_train, y_test = train_test_split(X, y, test_size=0.2, random_state=42)\n",
    "\n",
    "# Standardize features (optional but often recommended for Logistic Regression)\n",
    "scaler = StandardScaler()\n",
    "X_train_scaled = scaler.fit_transform(X_train)\n",
    "X_test_scaled = scaler.transform(X_test)\n",
    "\n",
    "# Initialize the Logistic Regression Classifier\n",
    "clf = LogisticRegression(random_state=42)\n",
    "\n",
    "# Train the classifier on the training set\n",
    "clf.fit(X_train_scaled, y_train)\n",
    "\n",
    "# Make predictions on the test set\n",
    "y_pred = clf.predict(X_test_scaled)\n",
    "\n",
    "# Evaluate the performance of the classifier\n",
    "accuracy = accuracy_score(y_test, y_pred)\n",
    "conf_matrix = confusion_matrix(y_test, y_pred)\n",
    "class_report = classification_report(y_test, y_pred)\n",
    "\n",
    "# Print the results\n",
    "print(f\"Accuracy: {accuracy:.2f}\")\n",
    "print(\"Confusion Matrix:\\n\", conf_matrix)\n",
    "print(\"Classification Report:\\n\", class_report)\n"
   ]
  },
  {
   "cell_type": "code",
   "execution_count": 5,
   "metadata": {},
   "outputs": [],
   "source": [
    "import pickle\n",
    "# save the model to disk\n",
    "pickle.dump(cls, open('models/logistic_regression_model.pkl', 'wb'))"
   ]
  },
  {
   "cell_type": "code",
   "execution_count": 12,
   "metadata": {},
   "outputs": [],
   "source": [
    "def preprocess_input_string(input_string, columns):\n",
    "    # Tokenize the input string and count the occurrence of each word\n",
    "    word_list = input_string.lower().split()\n",
    "    word_count = {word: word_list.count(word) for word in word_list}\n",
    "\n",
    "    # Create a DataFrame with zeros for all columns\n",
    "    input_df = pd.DataFrame(columns=columns)\n",
    "    input_df.loc[0] = [0] * len(columns)\n",
    "\n",
    "    # Update the DataFrame with word counts from the input string\n",
    "    for word in word_count:\n",
    "        if word in input_df.columns:\n",
    "            input_df.at[0, word] = word_count[word]\n",
    "\n",
    "    return input_df\n",
    "\n",
    "def predict_string(input_string):\n",
    "    # Load the trained model\n",
    "    loaded_model = pickle.load(open('models/logistic_regression_model.pkl', 'rb'))\n",
    "\n",
    "    # Preprocess the input string to match the dataset's format\n",
    "    processed_input_df = preprocess_input_string(input_string, X_train.columns)\n",
    "\n",
    "    # Make a prediction using predict_proba\n",
    "    probabilities = loaded_model.predict_proba(processed_input_df)\n",
    "\n",
    "    # Extract the probability of the positive class\n",
    "    positive_class_probability = probabilities[0][1]\n",
    "    return positive_class_probability"
   ]
  },
  {
   "cell_type": "code",
   "execution_count": 77,
   "metadata": {},
   "outputs": [
    {
     "name": "stdout",
     "output_type": "stream",
     "text": [
      "Probability of being positive spam: 2.0980016736801516e-12\n"
     ]
    }
   ],
   "source": [
    "# expect gary may's email to have a really low probability of being spam\n",
    "test_string = \"Welcome Aggies! We are excited to welcome both new and continuing students to campus and the community. We wish you a safe and productive school year filled with academic and personal success. UC Davis has many important health and safety resources, so please take time to review this information in case you ever need to access them. Mental Health Resources Aggie Mental Health is a campuswide initiative supporting student mental health and well-being. This campaign is a collaboration between Student Health and Counseling Services’ (SHCS) Health Education and Promotion department and the Aggie Mental Health Ambassador program. Visit the Aggie Mental Health website for help navigating all of campus's many mental health resources, including Counseling Services. You can also follow the Aggie Mental Health Instagram for up to date information about mental health resources on campus. Alcohol, Tobacco and Other Drugs Risk Reduction SHCS’ Health Education and Promotion department offers tips and resources around alcohol and other substances. The Safe Party website and Instagram account (@ucdsafeparty) feature information around: Signs of alcohol poisoning and other overdose resources, including how to obtain Narcan on campus if you are concerned about a friend’s opioid use Navigating consent while drinking and other sexual well-being resources How to be an ‘Upstander’ and/or Effective Wingperson To remove the fear of getting into trouble that may keep students from calling for medical help in an emergency related to alcohol or drugs, UC Davis has the Aggies Act protocol where neither the student who called nor the student who experienced the medical emergency would be subject to the formal student conduct process. A similar law exists in the state of California for students who live off campus. For any students in recovery from alcohol or other substances, UC Davis has a collegiate recovery group, Aggies For Recovery. Find out more on our SHCS recovery resources page. Harassment and Discrimination UC Davis takes all complaints of harassment and discrimination very seriously. The Harassment & Discrimination Assistance and Prevention Program (HDAPP) handles all reports of harassment and discrimination including reports of sexual violence and sexual harassment and can answer any questions you have about how the University responds to such concerns. If you or someone you know experienced harassment or discrimination at UC Davis, please report it here. Sexual Violence Resources If you or someone you know is experiencing sexual violence, including sexual assault, sexual harassment, sexual exploitation, intimate partner violence, stalking or harassment based on gender identity or sexual orientation, there are professional and experienced staff available to support and help you understand your rights and options. All of the confidential resources below are free of cost and available to survivors regardless of their decision to make any formal report. The confidential CARE Advocates provide crisis intervention and advocacy, assist with safety planning and discuss reporting options. They can be reached by calling (530) 752-3299. For non-urgent situations, you can email ucdcare@ucdavis.edu. UC Davis Counseling Services offers confidential short-term counseling to any student experiencing stress or trauma related to a variety of situations. To schedule a counseling appointment, call (530) 752-0871. The Women's Resources and Research Center (WRRC), Lesbian, Gay, Bisexual, Transgender, Queer, Intersex, Asexual Resource Center (LGBTQIA RC) and Ombuds are also designated as confidential resources for survivors of sexual violence. Hazing Resources Stop Hazing is a campuswide campaign developed to provide support and resources for students who are being hazed, empower our community to identify, report and discourage hazing and offer ideas of how to implement positive strategies to bring groups together. The campaign includes the new Stop Hazing website serving as hub for educational resources. Working together, our goal is to create the best environment for our students, faculty, staff and other community residents. We also encourage you to reach out to any of these resources if you ever need support during your time at UC Davis. In health, Cory Vu Associate Vice Chancellor for Health, Wellness and Divisional Resources Division of Student Affairs Raeann Bowlds Director, Health Education and Promotion UC Davis Student Health and Counseling Services \"\n",
    "probability = predict_string(test_string)\n",
    "print(\"Probability of being positive spam:\", probability)"
   ]
  }
 ],
 "metadata": {
  "kernelspec": {
   "display_name": "Python 3.11.6 64-bit",
   "language": "python",
   "name": "python3"
  },
  "language_info": {
   "codemirror_mode": {
    "name": "ipython",
    "version": 3
   },
   "file_extension": ".py",
   "mimetype": "text/x-python",
   "name": "python",
   "nbconvert_exporter": "python",
   "pygments_lexer": "ipython3",
   "version": "3.11.6"
  },
  "vscode": {
   "interpreter": {
    "hash": "aee8b7b246df8f9039afb4144a1f6fd8d2ca17a180786b69acc140d282b71a49"
   }
  }
 },
 "nbformat": 4,
 "nbformat_minor": 2
}
